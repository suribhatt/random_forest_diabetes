{
 "cells": [
  {
   "cell_type": "code",
   "execution_count": 1,
   "metadata": {},
   "outputs": [],
   "source": [
    "import pandas as pd\n",
    "from sklearn.ensemble import RandomForestClassifier\n",
    "from sklearn import tree\n",
    "from sklearn.model_selection import train_test_split,GridSearchCV\n",
    "from sklearn.preprocessing import StandardScaler\n",
    "from sklearn.metrics import accuracy_score, confusion_matrix, roc_curve, roc_auc_score\n"
   ]
  },
  {
   "cell_type": "code",
   "execution_count": 34,
   "metadata": {
    "scrolled": true
   },
   "outputs": [
    {
     "data": {
      "text/html": [
       "<div>\n",
       "<style scoped>\n",
       "    .dataframe tbody tr th:only-of-type {\n",
       "        vertical-align: middle;\n",
       "    }\n",
       "\n",
       "    .dataframe tbody tr th {\n",
       "        vertical-align: top;\n",
       "    }\n",
       "\n",
       "    .dataframe thead th {\n",
       "        text-align: right;\n",
       "    }\n",
       "</style>\n",
       "<table border=\"1\" class=\"dataframe\">\n",
       "  <thead>\n",
       "    <tr style=\"text-align: right;\">\n",
       "      <th></th>\n",
       "      <th>fixed acidity</th>\n",
       "      <th>volatile acidity</th>\n",
       "      <th>citric acid</th>\n",
       "      <th>residual sugar</th>\n",
       "      <th>chlorides</th>\n",
       "      <th>free sulfur dioxide</th>\n",
       "      <th>total sulfur dioxide</th>\n",
       "      <th>density</th>\n",
       "      <th>pH</th>\n",
       "      <th>sulphates</th>\n",
       "      <th>alcohol</th>\n",
       "      <th>quality</th>\n",
       "    </tr>\n",
       "  </thead>\n",
       "  <tbody>\n",
       "    <tr>\n",
       "      <th>0</th>\n",
       "      <td>7.4</td>\n",
       "      <td>0.700</td>\n",
       "      <td>0.00</td>\n",
       "      <td>1.9</td>\n",
       "      <td>0.076</td>\n",
       "      <td>11.0</td>\n",
       "      <td>34.0</td>\n",
       "      <td>0.9978</td>\n",
       "      <td>3.51</td>\n",
       "      <td>0.56</td>\n",
       "      <td>9.4</td>\n",
       "      <td>5</td>\n",
       "    </tr>\n",
       "    <tr>\n",
       "      <th>1</th>\n",
       "      <td>7.8</td>\n",
       "      <td>0.880</td>\n",
       "      <td>0.00</td>\n",
       "      <td>2.6</td>\n",
       "      <td>0.098</td>\n",
       "      <td>25.0</td>\n",
       "      <td>67.0</td>\n",
       "      <td>0.9968</td>\n",
       "      <td>3.20</td>\n",
       "      <td>0.68</td>\n",
       "      <td>9.8</td>\n",
       "      <td>5</td>\n",
       "    </tr>\n",
       "    <tr>\n",
       "      <th>2</th>\n",
       "      <td>7.8</td>\n",
       "      <td>0.760</td>\n",
       "      <td>0.04</td>\n",
       "      <td>2.3</td>\n",
       "      <td>0.092</td>\n",
       "      <td>15.0</td>\n",
       "      <td>54.0</td>\n",
       "      <td>0.9970</td>\n",
       "      <td>3.26</td>\n",
       "      <td>0.65</td>\n",
       "      <td>9.8</td>\n",
       "      <td>5</td>\n",
       "    </tr>\n",
       "    <tr>\n",
       "      <th>3</th>\n",
       "      <td>11.2</td>\n",
       "      <td>0.280</td>\n",
       "      <td>0.56</td>\n",
       "      <td>1.9</td>\n",
       "      <td>0.075</td>\n",
       "      <td>17.0</td>\n",
       "      <td>60.0</td>\n",
       "      <td>0.9980</td>\n",
       "      <td>3.16</td>\n",
       "      <td>0.58</td>\n",
       "      <td>9.8</td>\n",
       "      <td>6</td>\n",
       "    </tr>\n",
       "    <tr>\n",
       "      <th>4</th>\n",
       "      <td>7.4</td>\n",
       "      <td>0.700</td>\n",
       "      <td>0.00</td>\n",
       "      <td>1.9</td>\n",
       "      <td>0.076</td>\n",
       "      <td>11.0</td>\n",
       "      <td>34.0</td>\n",
       "      <td>0.9978</td>\n",
       "      <td>3.51</td>\n",
       "      <td>0.56</td>\n",
       "      <td>9.4</td>\n",
       "      <td>5</td>\n",
       "    </tr>\n",
       "    <tr>\n",
       "      <th>5</th>\n",
       "      <td>7.4</td>\n",
       "      <td>0.660</td>\n",
       "      <td>0.00</td>\n",
       "      <td>1.8</td>\n",
       "      <td>0.075</td>\n",
       "      <td>13.0</td>\n",
       "      <td>40.0</td>\n",
       "      <td>0.9978</td>\n",
       "      <td>3.51</td>\n",
       "      <td>0.56</td>\n",
       "      <td>9.4</td>\n",
       "      <td>5</td>\n",
       "    </tr>\n",
       "    <tr>\n",
       "      <th>6</th>\n",
       "      <td>7.9</td>\n",
       "      <td>0.600</td>\n",
       "      <td>0.06</td>\n",
       "      <td>1.6</td>\n",
       "      <td>0.069</td>\n",
       "      <td>15.0</td>\n",
       "      <td>59.0</td>\n",
       "      <td>0.9964</td>\n",
       "      <td>3.30</td>\n",
       "      <td>0.46</td>\n",
       "      <td>9.4</td>\n",
       "      <td>5</td>\n",
       "    </tr>\n",
       "    <tr>\n",
       "      <th>7</th>\n",
       "      <td>7.3</td>\n",
       "      <td>0.650</td>\n",
       "      <td>0.00</td>\n",
       "      <td>1.2</td>\n",
       "      <td>0.065</td>\n",
       "      <td>15.0</td>\n",
       "      <td>21.0</td>\n",
       "      <td>0.9946</td>\n",
       "      <td>3.39</td>\n",
       "      <td>0.47</td>\n",
       "      <td>10.0</td>\n",
       "      <td>7</td>\n",
       "    </tr>\n",
       "    <tr>\n",
       "      <th>8</th>\n",
       "      <td>7.8</td>\n",
       "      <td>0.580</td>\n",
       "      <td>0.02</td>\n",
       "      <td>2.0</td>\n",
       "      <td>0.073</td>\n",
       "      <td>9.0</td>\n",
       "      <td>18.0</td>\n",
       "      <td>0.9968</td>\n",
       "      <td>3.36</td>\n",
       "      <td>0.57</td>\n",
       "      <td>9.5</td>\n",
       "      <td>7</td>\n",
       "    </tr>\n",
       "    <tr>\n",
       "      <th>9</th>\n",
       "      <td>7.5</td>\n",
       "      <td>0.500</td>\n",
       "      <td>0.36</td>\n",
       "      <td>6.1</td>\n",
       "      <td>0.071</td>\n",
       "      <td>17.0</td>\n",
       "      <td>102.0</td>\n",
       "      <td>0.9978</td>\n",
       "      <td>3.35</td>\n",
       "      <td>0.80</td>\n",
       "      <td>10.5</td>\n",
       "      <td>5</td>\n",
       "    </tr>\n",
       "    <tr>\n",
       "      <th>10</th>\n",
       "      <td>6.7</td>\n",
       "      <td>0.580</td>\n",
       "      <td>0.08</td>\n",
       "      <td>1.8</td>\n",
       "      <td>0.097</td>\n",
       "      <td>15.0</td>\n",
       "      <td>65.0</td>\n",
       "      <td>0.9959</td>\n",
       "      <td>3.28</td>\n",
       "      <td>0.54</td>\n",
       "      <td>9.2</td>\n",
       "      <td>5</td>\n",
       "    </tr>\n",
       "    <tr>\n",
       "      <th>11</th>\n",
       "      <td>7.5</td>\n",
       "      <td>0.500</td>\n",
       "      <td>0.36</td>\n",
       "      <td>6.1</td>\n",
       "      <td>0.071</td>\n",
       "      <td>17.0</td>\n",
       "      <td>102.0</td>\n",
       "      <td>0.9978</td>\n",
       "      <td>3.35</td>\n",
       "      <td>0.80</td>\n",
       "      <td>10.5</td>\n",
       "      <td>5</td>\n",
       "    </tr>\n",
       "    <tr>\n",
       "      <th>12</th>\n",
       "      <td>5.6</td>\n",
       "      <td>0.615</td>\n",
       "      <td>0.00</td>\n",
       "      <td>1.6</td>\n",
       "      <td>0.089</td>\n",
       "      <td>16.0</td>\n",
       "      <td>59.0</td>\n",
       "      <td>0.9943</td>\n",
       "      <td>3.58</td>\n",
       "      <td>0.52</td>\n",
       "      <td>9.9</td>\n",
       "      <td>5</td>\n",
       "    </tr>\n",
       "    <tr>\n",
       "      <th>13</th>\n",
       "      <td>7.8</td>\n",
       "      <td>0.610</td>\n",
       "      <td>0.29</td>\n",
       "      <td>1.6</td>\n",
       "      <td>0.114</td>\n",
       "      <td>9.0</td>\n",
       "      <td>29.0</td>\n",
       "      <td>0.9974</td>\n",
       "      <td>3.26</td>\n",
       "      <td>1.56</td>\n",
       "      <td>9.1</td>\n",
       "      <td>5</td>\n",
       "    </tr>\n",
       "    <tr>\n",
       "      <th>14</th>\n",
       "      <td>8.9</td>\n",
       "      <td>0.620</td>\n",
       "      <td>0.18</td>\n",
       "      <td>3.8</td>\n",
       "      <td>0.176</td>\n",
       "      <td>52.0</td>\n",
       "      <td>145.0</td>\n",
       "      <td>0.9986</td>\n",
       "      <td>3.16</td>\n",
       "      <td>0.88</td>\n",
       "      <td>9.2</td>\n",
       "      <td>5</td>\n",
       "    </tr>\n",
       "    <tr>\n",
       "      <th>15</th>\n",
       "      <td>8.9</td>\n",
       "      <td>0.620</td>\n",
       "      <td>0.19</td>\n",
       "      <td>3.9</td>\n",
       "      <td>0.170</td>\n",
       "      <td>51.0</td>\n",
       "      <td>148.0</td>\n",
       "      <td>0.9986</td>\n",
       "      <td>3.17</td>\n",
       "      <td>0.93</td>\n",
       "      <td>9.2</td>\n",
       "      <td>5</td>\n",
       "    </tr>\n",
       "    <tr>\n",
       "      <th>16</th>\n",
       "      <td>8.5</td>\n",
       "      <td>0.280</td>\n",
       "      <td>0.56</td>\n",
       "      <td>1.8</td>\n",
       "      <td>0.092</td>\n",
       "      <td>35.0</td>\n",
       "      <td>103.0</td>\n",
       "      <td>0.9969</td>\n",
       "      <td>3.30</td>\n",
       "      <td>0.75</td>\n",
       "      <td>10.5</td>\n",
       "      <td>7</td>\n",
       "    </tr>\n",
       "    <tr>\n",
       "      <th>17</th>\n",
       "      <td>8.1</td>\n",
       "      <td>0.560</td>\n",
       "      <td>0.28</td>\n",
       "      <td>1.7</td>\n",
       "      <td>0.368</td>\n",
       "      <td>16.0</td>\n",
       "      <td>56.0</td>\n",
       "      <td>0.9968</td>\n",
       "      <td>3.11</td>\n",
       "      <td>1.28</td>\n",
       "      <td>9.3</td>\n",
       "      <td>5</td>\n",
       "    </tr>\n",
       "    <tr>\n",
       "      <th>18</th>\n",
       "      <td>7.4</td>\n",
       "      <td>0.590</td>\n",
       "      <td>0.08</td>\n",
       "      <td>4.4</td>\n",
       "      <td>0.086</td>\n",
       "      <td>6.0</td>\n",
       "      <td>29.0</td>\n",
       "      <td>0.9974</td>\n",
       "      <td>3.38</td>\n",
       "      <td>0.50</td>\n",
       "      <td>9.0</td>\n",
       "      <td>4</td>\n",
       "    </tr>\n",
       "    <tr>\n",
       "      <th>19</th>\n",
       "      <td>7.9</td>\n",
       "      <td>0.320</td>\n",
       "      <td>0.51</td>\n",
       "      <td>1.8</td>\n",
       "      <td>0.341</td>\n",
       "      <td>17.0</td>\n",
       "      <td>56.0</td>\n",
       "      <td>0.9969</td>\n",
       "      <td>3.04</td>\n",
       "      <td>1.08</td>\n",
       "      <td>9.2</td>\n",
       "      <td>6</td>\n",
       "    </tr>\n",
       "  </tbody>\n",
       "</table>\n",
       "</div>"
      ],
      "text/plain": [
       "    fixed acidity  volatile acidity  citric acid  residual sugar  chlorides  \\\n",
       "0             7.4             0.700         0.00             1.9      0.076   \n",
       "1             7.8             0.880         0.00             2.6      0.098   \n",
       "2             7.8             0.760         0.04             2.3      0.092   \n",
       "3            11.2             0.280         0.56             1.9      0.075   \n",
       "4             7.4             0.700         0.00             1.9      0.076   \n",
       "5             7.4             0.660         0.00             1.8      0.075   \n",
       "6             7.9             0.600         0.06             1.6      0.069   \n",
       "7             7.3             0.650         0.00             1.2      0.065   \n",
       "8             7.8             0.580         0.02             2.0      0.073   \n",
       "9             7.5             0.500         0.36             6.1      0.071   \n",
       "10            6.7             0.580         0.08             1.8      0.097   \n",
       "11            7.5             0.500         0.36             6.1      0.071   \n",
       "12            5.6             0.615         0.00             1.6      0.089   \n",
       "13            7.8             0.610         0.29             1.6      0.114   \n",
       "14            8.9             0.620         0.18             3.8      0.176   \n",
       "15            8.9             0.620         0.19             3.9      0.170   \n",
       "16            8.5             0.280         0.56             1.8      0.092   \n",
       "17            8.1             0.560         0.28             1.7      0.368   \n",
       "18            7.4             0.590         0.08             4.4      0.086   \n",
       "19            7.9             0.320         0.51             1.8      0.341   \n",
       "\n",
       "    free sulfur dioxide  total sulfur dioxide  density    pH  sulphates  \\\n",
       "0                  11.0                  34.0   0.9978  3.51       0.56   \n",
       "1                  25.0                  67.0   0.9968  3.20       0.68   \n",
       "2                  15.0                  54.0   0.9970  3.26       0.65   \n",
       "3                  17.0                  60.0   0.9980  3.16       0.58   \n",
       "4                  11.0                  34.0   0.9978  3.51       0.56   \n",
       "5                  13.0                  40.0   0.9978  3.51       0.56   \n",
       "6                  15.0                  59.0   0.9964  3.30       0.46   \n",
       "7                  15.0                  21.0   0.9946  3.39       0.47   \n",
       "8                   9.0                  18.0   0.9968  3.36       0.57   \n",
       "9                  17.0                 102.0   0.9978  3.35       0.80   \n",
       "10                 15.0                  65.0   0.9959  3.28       0.54   \n",
       "11                 17.0                 102.0   0.9978  3.35       0.80   \n",
       "12                 16.0                  59.0   0.9943  3.58       0.52   \n",
       "13                  9.0                  29.0   0.9974  3.26       1.56   \n",
       "14                 52.0                 145.0   0.9986  3.16       0.88   \n",
       "15                 51.0                 148.0   0.9986  3.17       0.93   \n",
       "16                 35.0                 103.0   0.9969  3.30       0.75   \n",
       "17                 16.0                  56.0   0.9968  3.11       1.28   \n",
       "18                  6.0                  29.0   0.9974  3.38       0.50   \n",
       "19                 17.0                  56.0   0.9969  3.04       1.08   \n",
       "\n",
       "    alcohol  quality  \n",
       "0       9.4        5  \n",
       "1       9.8        5  \n",
       "2       9.8        5  \n",
       "3       9.8        6  \n",
       "4       9.4        5  \n",
       "5       9.4        5  \n",
       "6       9.4        5  \n",
       "7      10.0        7  \n",
       "8       9.5        7  \n",
       "9      10.5        5  \n",
       "10      9.2        5  \n",
       "11     10.5        5  \n",
       "12      9.9        5  \n",
       "13      9.1        5  \n",
       "14      9.2        5  \n",
       "15      9.2        5  \n",
       "16     10.5        7  \n",
       "17      9.3        5  \n",
       "18      9.0        4  \n",
       "19      9.2        6  "
      ]
     },
     "execution_count": 34,
     "metadata": {},
     "output_type": "execute_result"
    }
   ],
   "source": [
    "data = pd.read_csv(\"winequality_red.csv\")\n",
    "data.head(20)"
   ]
  },
  {
   "cell_type": "code",
   "execution_count": 4,
   "metadata": {},
   "outputs": [
    {
     "data": {
      "text/plain": [
       "fixed acidity           0\n",
       "volatile acidity        0\n",
       "citric acid             0\n",
       "residual sugar          0\n",
       "chlorides               0\n",
       "free sulfur dioxide     0\n",
       "total sulfur dioxide    0\n",
       "density                 0\n",
       "pH                      0\n",
       "sulphates               0\n",
       "alcohol                 0\n",
       "quality                 0\n",
       "dtype: int64"
      ]
     },
     "execution_count": 4,
     "metadata": {},
     "output_type": "execute_result"
    }
   ],
   "source": [
    "data.isnull().sum()"
   ]
  },
  {
   "cell_type": "code",
   "execution_count": 3,
   "metadata": {},
   "outputs": [],
   "source": [
    "X = data.drop(columns = 'quality')\n",
    "y = data['quality']"
   ]
  },
  {
   "cell_type": "code",
   "execution_count": 5,
   "metadata": {},
   "outputs": [],
   "source": [
    "x_train,x_test,y_train,y_test = train_test_split(X,y,test_size = 0.30, random_state= 355)"
   ]
  },
  {
   "cell_type": "code",
   "execution_count": 7,
   "metadata": {},
   "outputs": [],
   "source": [
    "rand_clf = RandomForestClassifier(random_state=6)"
   ]
  },
  {
   "cell_type": "code",
   "execution_count": 8,
   "metadata": {},
   "outputs": [
    {
     "name": "stderr",
     "output_type": "stream",
     "text": [
      "C:\\Users\\Suraj\\Anaconda3\\lib\\site-packages\\sklearn\\ensemble\\forest.py:245: FutureWarning: The default value of n_estimators will change from 10 in version 0.20 to 100 in 0.22.\n",
      "  \"10 in version 0.20 to 100 in 0.22.\", FutureWarning)\n"
     ]
    },
    {
     "data": {
      "text/plain": [
       "RandomForestClassifier(bootstrap=True, class_weight=None, criterion='gini',\n",
       "                       max_depth=None, max_features='auto', max_leaf_nodes=None,\n",
       "                       min_impurity_decrease=0.0, min_impurity_split=None,\n",
       "                       min_samples_leaf=1, min_samples_split=2,\n",
       "                       min_weight_fraction_leaf=0.0, n_estimators=10,\n",
       "                       n_jobs=None, oob_score=False, random_state=6, verbose=0,\n",
       "                       warm_start=False)"
      ]
     },
     "execution_count": 8,
     "metadata": {},
     "output_type": "execute_result"
    }
   ],
   "source": [
    "rand_clf.fit(x_train,y_train)"
   ]
  },
  {
   "cell_type": "code",
   "execution_count": 11,
   "metadata": {},
   "outputs": [
    {
     "data": {
      "text/plain": [
       "0.64375"
      ]
     },
     "execution_count": 11,
     "metadata": {},
     "output_type": "execute_result"
    }
   ],
   "source": [
    "rand_clf.score(x_test,y_test)"
   ]
  },
  {
   "cell_type": "code",
   "execution_count": 12,
   "metadata": {},
   "outputs": [],
   "source": [
    "# we are tuning three hyperparameters right now, we are passing the different values for both parameters\n",
    "grid_param = {\n",
    "    \"n_estimators\" : [90,100,115,130],\n",
    "    'criterion': ['gini', 'entropy'],\n",
    "    'max_depth' : range(2,20,1),\n",
    "    'min_samples_leaf' : range(1,10,1),\n",
    "    'min_samples_split': range(2,10,1),\n",
    "    'max_features' : ['auto','log2']\n",
    "}"
   ]
  },
  {
   "cell_type": "code",
   "execution_count": 14,
   "metadata": {},
   "outputs": [],
   "source": [
    "grid_search = GridSearchCV(estimator=rand_clf,param_grid=grid_param,cv=5,n_jobs =-1,verbose = 3)"
   ]
  },
  {
   "cell_type": "code",
   "execution_count": 15,
   "metadata": {},
   "outputs": [
    {
     "name": "stdout",
     "output_type": "stream",
     "text": [
      "Fitting 5 folds for each of 20736 candidates, totalling 103680 fits\n"
     ]
    },
    {
     "name": "stderr",
     "output_type": "stream",
     "text": [
      "[Parallel(n_jobs=-1)]: Using backend LokyBackend with 8 concurrent workers.\n",
      "[Parallel(n_jobs=-1)]: Done  16 tasks      | elapsed:    3.1s\n",
      "[Parallel(n_jobs=-1)]: Done 112 tasks      | elapsed:    5.5s\n",
      "[Parallel(n_jobs=-1)]: Done 272 tasks      | elapsed:   11.9s\n",
      "[Parallel(n_jobs=-1)]: Done 496 tasks      | elapsed:   18.6s\n",
      "[Parallel(n_jobs=-1)]: Done 784 tasks      | elapsed:   26.0s\n",
      "[Parallel(n_jobs=-1)]: Done 1136 tasks      | elapsed:   35.2s\n",
      "[Parallel(n_jobs=-1)]: Done 1552 tasks      | elapsed:   45.7s\n",
      "[Parallel(n_jobs=-1)]: Done 2032 tasks      | elapsed:   58.1s\n",
      "[Parallel(n_jobs=-1)]: Done 2576 tasks      | elapsed:  1.2min\n",
      "[Parallel(n_jobs=-1)]: Done 3184 tasks      | elapsed:  1.5min\n",
      "[Parallel(n_jobs=-1)]: Done 3856 tasks      | elapsed:  1.8min\n",
      "[Parallel(n_jobs=-1)]: Done 4592 tasks      | elapsed:  2.1min\n",
      "[Parallel(n_jobs=-1)]: Done 5392 tasks      | elapsed:  2.5min\n",
      "[Parallel(n_jobs=-1)]: Done 6256 tasks      | elapsed:  2.9min\n",
      "[Parallel(n_jobs=-1)]: Done 7184 tasks      | elapsed:  3.4min\n",
      "[Parallel(n_jobs=-1)]: Done 8176 tasks      | elapsed:  3.9min\n",
      "[Parallel(n_jobs=-1)]: Done 9232 tasks      | elapsed:  4.5min\n",
      "[Parallel(n_jobs=-1)]: Done 10352 tasks      | elapsed:  5.1min\n",
      "[Parallel(n_jobs=-1)]: Done 11536 tasks      | elapsed:  5.6min\n",
      "[Parallel(n_jobs=-1)]: Done 12784 tasks      | elapsed:  6.1min\n",
      "[Parallel(n_jobs=-1)]: Done 14096 tasks      | elapsed:  6.7min\n",
      "[Parallel(n_jobs=-1)]: Done 15472 tasks      | elapsed:  7.3min\n",
      "[Parallel(n_jobs=-1)]: Done 16912 tasks      | elapsed:  8.0min\n",
      "[Parallel(n_jobs=-1)]: Done 18416 tasks      | elapsed:  8.7min\n",
      "[Parallel(n_jobs=-1)]: Done 19984 tasks      | elapsed:  9.4min\n",
      "[Parallel(n_jobs=-1)]: Done 21616 tasks      | elapsed: 10.2min\n",
      "[Parallel(n_jobs=-1)]: Done 23312 tasks      | elapsed: 11.1min\n",
      "[Parallel(n_jobs=-1)]: Done 25072 tasks      | elapsed: 11.9min\n",
      "[Parallel(n_jobs=-1)]: Done 26896 tasks      | elapsed: 12.8min\n",
      "[Parallel(n_jobs=-1)]: Done 28784 tasks      | elapsed: 13.8min\n",
      "[Parallel(n_jobs=-1)]: Done 30736 tasks      | elapsed: 14.8min\n",
      "[Parallel(n_jobs=-1)]: Done 32752 tasks      | elapsed: 15.8min\n",
      "[Parallel(n_jobs=-1)]: Done 34832 tasks      | elapsed: 16.8min\n",
      "[Parallel(n_jobs=-1)]: Done 36976 tasks      | elapsed: 17.9min\n",
      "[Parallel(n_jobs=-1)]: Done 39184 tasks      | elapsed: 19.0min\n",
      "[Parallel(n_jobs=-1)]: Done 41456 tasks      | elapsed: 20.2min\n",
      "[Parallel(n_jobs=-1)]: Done 43792 tasks      | elapsed: 21.5min\n",
      "[Parallel(n_jobs=-1)]: Done 46192 tasks      | elapsed: 22.7min\n",
      "[Parallel(n_jobs=-1)]: Done 48656 tasks      | elapsed: 24.0min\n",
      "[Parallel(n_jobs=-1)]: Done 51184 tasks      | elapsed: 25.4min\n",
      "[Parallel(n_jobs=-1)]: Done 53776 tasks      | elapsed: 26.4min\n",
      "[Parallel(n_jobs=-1)]: Done 56432 tasks      | elapsed: 27.5min\n",
      "[Parallel(n_jobs=-1)]: Done 59152 tasks      | elapsed: 28.8min\n",
      "[Parallel(n_jobs=-1)]: Done 61936 tasks      | elapsed: 30.2min\n",
      "[Parallel(n_jobs=-1)]: Done 64784 tasks      | elapsed: 31.8min\n",
      "[Parallel(n_jobs=-1)]: Done 67696 tasks      | elapsed: 33.5min\n",
      "[Parallel(n_jobs=-1)]: Done 70672 tasks      | elapsed: 35.5min\n",
      "[Parallel(n_jobs=-1)]: Done 73712 tasks      | elapsed: 37.5min\n",
      "[Parallel(n_jobs=-1)]: Done 76816 tasks      | elapsed: 39.6min\n",
      "[Parallel(n_jobs=-1)]: Done 79984 tasks      | elapsed: 41.8min\n",
      "[Parallel(n_jobs=-1)]: Done 83216 tasks      | elapsed: 44.0min\n",
      "[Parallel(n_jobs=-1)]: Done 86512 tasks      | elapsed: 46.3min\n",
      "[Parallel(n_jobs=-1)]: Done 89872 tasks      | elapsed: 48.8min\n",
      "[Parallel(n_jobs=-1)]: Done 93296 tasks      | elapsed: 51.2min\n",
      "[Parallel(n_jobs=-1)]: Done 96784 tasks      | elapsed: 53.7min\n",
      "[Parallel(n_jobs=-1)]: Done 100336 tasks      | elapsed: 56.1min\n",
      "[Parallel(n_jobs=-1)]: Done 103680 out of 103680 | elapsed: 58.4min finished\n",
      "C:\\Users\\Suraj\\Anaconda3\\lib\\site-packages\\sklearn\\model_selection\\_search.py:814: DeprecationWarning: The default of the `iid` parameter will change from True to False in version 0.22 and will be removed in 0.24. This will change numeric results when test-set sizes are unequal.\n",
      "  DeprecationWarning)\n"
     ]
    },
    {
     "data": {
      "text/plain": [
       "GridSearchCV(cv=5, error_score='raise-deprecating',\n",
       "             estimator=RandomForestClassifier(bootstrap=True, class_weight=None,\n",
       "                                              criterion='gini', max_depth=None,\n",
       "                                              max_features='auto',\n",
       "                                              max_leaf_nodes=None,\n",
       "                                              min_impurity_decrease=0.0,\n",
       "                                              min_impurity_split=None,\n",
       "                                              min_samples_leaf=1,\n",
       "                                              min_samples_split=2,\n",
       "                                              min_weight_fraction_leaf=0.0,\n",
       "                                              n_estimators=10, n_jobs=None,\n",
       "                                              oob_score=False, random_state=6,\n",
       "                                              verbose=0, warm_start=False),\n",
       "             iid='warn', n_jobs=-1,\n",
       "             param_grid={'criterion': ['gini', 'entropy'],\n",
       "                         'max_depth': range(2, 20),\n",
       "                         'max_features': ['auto', 'log2'],\n",
       "                         'min_samples_leaf': range(1, 10),\n",
       "                         'min_samples_split': range(2, 10),\n",
       "                         'n_estimators': [90, 100, 115, 130]},\n",
       "             pre_dispatch='2*n_jobs', refit=True, return_train_score=False,\n",
       "             scoring=None, verbose=3)"
      ]
     },
     "execution_count": 15,
     "metadata": {},
     "output_type": "execute_result"
    }
   ],
   "source": [
    "grid_search.fit(x_train,y_train)"
   ]
  },
  {
   "cell_type": "code",
   "execution_count": 16,
   "metadata": {},
   "outputs": [
    {
     "data": {
      "text/plain": [
       "{'criterion': 'entropy',\n",
       " 'max_depth': 13,\n",
       " 'max_features': 'auto',\n",
       " 'min_samples_leaf': 1,\n",
       " 'min_samples_split': 4,\n",
       " 'n_estimators': 100}"
      ]
     },
     "execution_count": 16,
     "metadata": {},
     "output_type": "execute_result"
    }
   ],
   "source": [
    "#let's see the best parameters as per our grid search\n",
    "grid_search.best_params_"
   ]
  },
  {
   "cell_type": "code",
   "execution_count": 17,
   "metadata": {},
   "outputs": [],
   "source": [
    "rand_clf = RandomForestClassifier(criterion= 'entropy',\n",
    " max_depth = 12,\n",
    " max_features = 'log2',\n",
    " min_samples_leaf = 1,\n",
    " min_samples_split= 5,\n",
    " n_estimators = 90,random_state=6)"
   ]
  },
  {
   "cell_type": "code",
   "execution_count": 18,
   "metadata": {},
   "outputs": [
    {
     "data": {
      "text/plain": [
       "RandomForestClassifier(bootstrap=True, class_weight=None, criterion='entropy',\n",
       "                       max_depth=12, max_features='log2', max_leaf_nodes=None,\n",
       "                       min_impurity_decrease=0.0, min_impurity_split=None,\n",
       "                       min_samples_leaf=1, min_samples_split=5,\n",
       "                       min_weight_fraction_leaf=0.0, n_estimators=90,\n",
       "                       n_jobs=None, oob_score=False, random_state=6, verbose=0,\n",
       "                       warm_start=False)"
      ]
     },
     "execution_count": 18,
     "metadata": {},
     "output_type": "execute_result"
    }
   ],
   "source": [
    "rand_clf.fit(x_train,y_train)"
   ]
  },
  {
   "cell_type": "code",
   "execution_count": 19,
   "metadata": {},
   "outputs": [],
   "source": [
    "# we are tuning three hyperparameters right now, we are passing the different values for both parameters\n",
    "grid_param = {\n",
    "    \"n_estimators\" : [90,100,115],\n",
    "    'criterion': ['gini', 'entropy'],\n",
    "    'min_samples_leaf' : [1,2,3,4,5],\n",
    "    'min_samples_split': [4,5,6,7,8],\n",
    "    'max_features' : ['auto','log2']\n",
    "}"
   ]
  },
  {
   "cell_type": "code",
   "execution_count": 20,
   "metadata": {},
   "outputs": [],
   "source": [
    "grid_search = GridSearchCV(estimator=rand_clf,param_grid=grid_param,cv=5,n_jobs =-1,verbose = 3)"
   ]
  },
  {
   "cell_type": "code",
   "execution_count": 21,
   "metadata": {},
   "outputs": [
    {
     "name": "stdout",
     "output_type": "stream",
     "text": [
      "Fitting 5 folds for each of 300 candidates, totalling 1500 fits\n"
     ]
    },
    {
     "name": "stderr",
     "output_type": "stream",
     "text": [
      "[Parallel(n_jobs=-1)]: Using backend LokyBackend with 8 concurrent workers.\n",
      "[Parallel(n_jobs=-1)]: Done  16 tasks      | elapsed:    0.5s\n",
      "[Parallel(n_jobs=-1)]: Done 112 tasks      | elapsed:    3.7s\n",
      "[Parallel(n_jobs=-1)]: Done 272 tasks      | elapsed:    8.9s\n",
      "[Parallel(n_jobs=-1)]: Done 496 tasks      | elapsed:   15.9s\n",
      "[Parallel(n_jobs=-1)]: Done 784 tasks      | elapsed:   25.6s\n",
      "[Parallel(n_jobs=-1)]: Done 1136 tasks      | elapsed:   39.9s\n",
      "[Parallel(n_jobs=-1)]: Done 1500 out of 1500 | elapsed:   54.9s finished\n",
      "C:\\Users\\Suraj\\Anaconda3\\lib\\site-packages\\sklearn\\model_selection\\_search.py:814: DeprecationWarning: The default of the `iid` parameter will change from True to False in version 0.22 and will be removed in 0.24. This will change numeric results when test-set sizes are unequal.\n",
      "  DeprecationWarning)\n"
     ]
    },
    {
     "data": {
      "text/plain": [
       "GridSearchCV(cv=5, error_score='raise-deprecating',\n",
       "             estimator=RandomForestClassifier(bootstrap=True, class_weight=None,\n",
       "                                              criterion='entropy', max_depth=12,\n",
       "                                              max_features='log2',\n",
       "                                              max_leaf_nodes=None,\n",
       "                                              min_impurity_decrease=0.0,\n",
       "                                              min_impurity_split=None,\n",
       "                                              min_samples_leaf=1,\n",
       "                                              min_samples_split=5,\n",
       "                                              min_weight_fraction_leaf=0.0,\n",
       "                                              n_estimators=90, n_jobs=None,\n",
       "                                              oob_score=False, random_state=6,\n",
       "                                              verbose=0, warm_start=False),\n",
       "             iid='warn', n_jobs=-1,\n",
       "             param_grid={'criterion': ['gini', 'entropy'],\n",
       "                         'max_features': ['auto', 'log2'],\n",
       "                         'min_samples_leaf': [1, 2, 3, 4, 5],\n",
       "                         'min_samples_split': [4, 5, 6, 7, 8],\n",
       "                         'n_estimators': [90, 100, 115]},\n",
       "             pre_dispatch='2*n_jobs', refit=True, return_train_score=False,\n",
       "             scoring=None, verbose=3)"
      ]
     },
     "execution_count": 21,
     "metadata": {},
     "output_type": "execute_result"
    }
   ],
   "source": [
    "grid_search.fit(x_train,y_train)"
   ]
  },
  {
   "cell_type": "code",
   "execution_count": 22,
   "metadata": {},
   "outputs": [
    {
     "data": {
      "text/plain": [
       "{'criterion': 'entropy',\n",
       " 'max_features': 'auto',\n",
       " 'min_samples_leaf': 1,\n",
       " 'min_samples_split': 4,\n",
       " 'n_estimators': 115}"
      ]
     },
     "execution_count": 22,
     "metadata": {},
     "output_type": "execute_result"
    }
   ],
   "source": [
    "#let's see the best parameters as per our grid search\n",
    "grid_search.best_params_"
   ]
  },
  {
   "cell_type": "code",
   "execution_count": 23,
   "metadata": {},
   "outputs": [],
   "source": [
    "rand_clf = RandomForestClassifier(criterion= 'entropy',\n",
    " max_features = 'auto',\n",
    " min_samples_leaf = 1,\n",
    " min_samples_split= 4,\n",
    " n_estimators = 115,random_state=6)"
   ]
  },
  {
   "cell_type": "code",
   "execution_count": 24,
   "metadata": {},
   "outputs": [
    {
     "data": {
      "text/plain": [
       "RandomForestClassifier(bootstrap=True, class_weight=None, criterion='entropy',\n",
       "                       max_depth=None, max_features='auto', max_leaf_nodes=None,\n",
       "                       min_impurity_decrease=0.0, min_impurity_split=None,\n",
       "                       min_samples_leaf=1, min_samples_split=4,\n",
       "                       min_weight_fraction_leaf=0.0, n_estimators=115,\n",
       "                       n_jobs=None, oob_score=False, random_state=6, verbose=0,\n",
       "                       warm_start=False)"
      ]
     },
     "execution_count": 24,
     "metadata": {},
     "output_type": "execute_result"
    }
   ],
   "source": [
    "rand_clf.fit(x_train,y_train)"
   ]
  },
  {
   "cell_type": "code",
   "execution_count": 25,
   "metadata": {},
   "outputs": [
    {
     "data": {
      "text/plain": [
       "0.6729166666666667"
      ]
     },
     "execution_count": 25,
     "metadata": {},
     "output_type": "execute_result"
    }
   ],
   "source": [
    "rand_clf.score(x_test,y_test)"
   ]
  },
  {
   "cell_type": "code",
   "execution_count": 1,
   "metadata": {},
   "outputs": [
    {
     "ename": "NameError",
     "evalue": "name 'rand_clf' is not defined",
     "output_type": "error",
     "traceback": [
      "\u001b[1;31m---------------------------------------------------------------------------\u001b[0m",
      "\u001b[1;31mNameError\u001b[0m                                 Traceback (most recent call last)",
      "\u001b[1;32m<ipython-input-1-216ac4070edc>\u001b[0m in \u001b[0;36m<module>\u001b[1;34m\u001b[0m\n\u001b[0;32m      4\u001b[0m \u001b[1;33m\u001b[0m\u001b[0m\n\u001b[0;32m      5\u001b[0m \u001b[1;32mwith\u001b[0m \u001b[0mopen\u001b[0m\u001b[1;33m(\u001b[0m\u001b[1;34mr'C:\\Users\\Suraj\\Downloads\\ML\\EnsembleLearning_And_RandomForest'\u001b[0m\u001b[1;33m+\u001b[0m \u001b[1;34m'/suraj.sav'\u001b[0m\u001b[1;33m,\u001b[0m \u001b[1;34m'wb'\u001b[0m\u001b[1;33m)\u001b[0m \u001b[1;32mas\u001b[0m \u001b[0mf\u001b[0m\u001b[1;33m:\u001b[0m\u001b[1;33m\u001b[0m\u001b[1;33m\u001b[0m\u001b[0m\n\u001b[1;32m----> 6\u001b[1;33m     \u001b[0mpickle\u001b[0m\u001b[1;33m.\u001b[0m\u001b[0mdump\u001b[0m\u001b[1;33m(\u001b[0m\u001b[0mrand_clf\u001b[0m\u001b[1;33m,\u001b[0m\u001b[0mf\u001b[0m\u001b[1;33m,\u001b[0m\u001b[1;33m)\u001b[0m\u001b[1;33m\u001b[0m\u001b[1;33m\u001b[0m\u001b[0m\n\u001b[0m\u001b[0;32m      7\u001b[0m \u001b[1;33m\u001b[0m\u001b[0m\n",
      "\u001b[1;31mNameError\u001b[0m: name 'rand_clf' is not defined"
     ]
    }
   ],
   "source": [
    "# let's save the model\n",
    "\n",
    "import pickle\n",
    "\n",
    "with open(r'C:\\Users\\Suraj\\Downloads\\ML\\EnsembleLearning_And_RandomForest'+ '/suraj.sav', 'wb') as f:\n",
    "    pickle.dump(rand_clf,f,)\n",
    " "
   ]
  },
  {
   "cell_type": "code",
   "execution_count": 31,
   "metadata": {},
   "outputs": [],
   "source": [
    "!pip freeze>>requirements.txt"
   ]
  }
 ],
 "metadata": {
  "kernelspec": {
   "display_name": "Python 3",
   "language": "python",
   "name": "python3"
  },
  "language_info": {
   "codemirror_mode": {
    "name": "ipython",
    "version": 3
   },
   "file_extension": ".py",
   "mimetype": "text/x-python",
   "name": "python",
   "nbconvert_exporter": "python",
   "pygments_lexer": "ipython3",
   "version": "3.7.9"
  }
 },
 "nbformat": 4,
 "nbformat_minor": 2
}
